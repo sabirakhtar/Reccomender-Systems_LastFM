{
 "cells": [
  {
   "cell_type": "markdown",
   "metadata": {},
   "source": [
    "# Recommendation API"
   ]
  },
  {
   "cell_type": "markdown",
   "metadata": {},
   "source": [
    "## A Flask aplication to recommend items to a specific user based on precalculated file\n",
    "\n",
    "In this notebook we build a flask API Endpoint that loads a csv file offline. The API has only one endpoint: /ratings/top. By calling (POST) this endpoint with a userId en optionally a count in the body, the top recommended items together with the prediction scores are returned.\n",
    "\n",
    "To avoid you should use Spark, this notebook is entirely based on Python."
   ]
  },
  {
   "cell_type": "markdown",
   "metadata": {},
   "source": [
    "We need to run the entire application in one paragraph, because it needs to be constantly up and running."
   ]
  },
  {
   "cell_type": "code",
   "execution_count": null,
   "metadata": {},
   "outputs": [],
   "source": [
    "## Import packages\n",
    "from flask import Flask, request, jsonify\n",
    "import pandas\n",
    "\n",
    "## Initialize app\n",
    "app = Flask(__name__)\n",
    "\n",
    "## Read in data.csv using Pandas\n",
    "predictions = pandas.read_csv(\"Data/data.csv\", encoding = \"ISO-8859-1\").dropna()\n",
    "\n",
    "\n",
    "@app.route(\"/ratings/top\", methods=[\"POST\"])\n",
    "def top_ratings():\n",
    "    ## read the body of the API call\n",
    "    content = request.get_json()\n",
    "    \n",
    "    userId = request.args.get('userId')\n",
    "    \n",
    "    if userId is None:\n",
    "        return \"'UserId' is required and should be an Integer.\"\n",
    "        sys.exit(\"'UserId' is required and should be an Integer.\")\n",
    "        \n",
    "    if str.isdigit(userId):\n",
    "        UserID = int(userId)\n",
    "    else:\n",
    "        return \"'UserId' is required and should be an Integer.\"\n",
    "        sys.exit(\"'UserId' is required and should be an Integer.\")\n",
    "\n",
    "    \n",
    "    # filter predictions for the given userId\n",
    "    predict = predictions[predictions.UserID == UserID]\n",
    "    \n",
    "    # select movieId, title and prediction and transform to list\n",
    "    top_ratings = list(predict[[\"UserID\", \"ArtistID\",\"ArtistName\", \"Score\"]].T.to_dict().values())\n",
    "    \n",
    "    # Return the result to the API\n",
    "    return jsonify(top_ratings)\n",
    "\n",
    "### Put endpoint online\n",
    "if __name__ == '__main__':\n",
    "    app.run(host='localhost', port=6000)"
   ]
  },
  {
   "cell_type": "code",
   "execution_count": null,
   "metadata": {},
   "outputs": [],
   "source": []
  }
 ],
 "metadata": {
  "kernelspec": {
   "display_name": "Python 3",
   "language": "python",
   "name": "python3"
  },
  "language_info": {
   "codemirror_mode": {
    "name": "ipython",
    "version": 3
   },
   "file_extension": ".py",
   "mimetype": "text/x-python",
   "name": "python",
   "nbconvert_exporter": "python",
   "pygments_lexer": "ipython3",
   "version": "3.6.7"
  }
 },
 "nbformat": 4,
 "nbformat_minor": 2
}
